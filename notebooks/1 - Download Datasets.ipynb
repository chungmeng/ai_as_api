{
 "cells": [
  {
   "cell_type": "code",
   "execution_count": 2,
   "id": "34013d7d",
   "metadata": {
    "ExecuteTime": {
     "end_time": "2021-11-04T08:02:25.231210Z",
     "start_time": "2021-11-04T08:02:25.226356Z"
    }
   },
   "outputs": [],
   "source": [
    "import pathlib"
   ]
  },
  {
   "cell_type": "code",
   "execution_count": 12,
   "id": "0bec0390",
   "metadata": {
    "ExecuteTime": {
     "end_time": "2021-11-04T08:16:49.742660Z",
     "start_time": "2021-11-04T08:16:49.737475Z"
    }
   },
   "outputs": [],
   "source": [
    "SMS_SPAM_ZIP='https://archive.ics.uci.edu/ml/machine-learning-databases/00228/smsspamcollection.zip'\n",
    "YOUTUBE_SPAM_ZIP='https://archive.ics.uci.edu/ml/machine-learning-databases/00380/YouTube-Spam-Collection-v1.zip'"
   ]
  },
  {
   "cell_type": "code",
   "execution_count": 46,
   "id": "b27ed699",
   "metadata": {
    "ExecuteTime": {
     "end_time": "2021-11-04T10:20:41.355761Z",
     "start_time": "2021-11-04T10:20:41.347869Z"
    }
   },
   "outputs": [],
   "source": [
    "BASE_DIR=pathlib.Path().resolve().parent\n",
    "DATASET_DIR=BASE_DIR / \"datasets\"\n",
    "ZIPS_DIR = DATASET_DIR / \"zips\"\n",
    "ZIPS_DIR.mkdir(exist_ok=True, parents=True)\n",
    "\n",
    "SMS_SPAM_ZIP_PATH = ZIPS_DIR / 'sms_spam.zip'\n",
    "YOUTUBE_SPAM_ZIP_PATH = ZIPS_DIR / 'youtube_spam.zip'\n",
    "\n",
    "EXPORT_DIR=DATASET_DIR / \"exports\"\n",
    "EXPORT_DIR.mkdir(exist_ok=True, parents=True)\n",
    "SPAM_DATASET_PATH=EXPORT_DIR/\"spam_dataset.csv\""
   ]
  },
  {
   "cell_type": "code",
   "execution_count": 10,
   "id": "deceb621",
   "metadata": {
    "ExecuteTime": {
     "end_time": "2021-11-04T08:10:54.651701Z",
     "start_time": "2021-11-04T08:10:42.098131Z"
    }
   },
   "outputs": [
    {
     "name": "stdout",
     "output_type": "stream",
     "text": [
      "  % Total    % Received % Xferd  Average Speed   Time    Time     Time  Current\n",
      "                                 Dload  Upload   Total   Spent    Left  Speed\n",
      "100  198k  100  198k    0     0  16388      0  0:00:12  0:00:12 --:--:-- 49565\n"
     ]
    }
   ],
   "source": [
    "!curl -i $SMS_SPAM_ZIP -o $SMS_SPAM_ZIP_PATH"
   ]
  },
  {
   "cell_type": "code",
   "execution_count": 13,
   "id": "710fa980",
   "metadata": {
    "ExecuteTime": {
     "end_time": "2021-11-04T08:17:22.016200Z",
     "start_time": "2021-11-04T08:17:17.882103Z"
    }
   },
   "outputs": [
    {
     "name": "stdout",
     "output_type": "stream",
     "text": [
      "  % Total    % Received % Xferd  Average Speed   Time    Time     Time  Current\n",
      "                                 Dload  Upload   Total   Spent    Left  Speed\n",
      "100  159k  100  159k    0     0  41609      0  0:00:03  0:00:03 --:--:-- 41598\n"
     ]
    }
   ],
   "source": [
    "!curl -i $YOUTUBE_SPAM_ZIP -o $YOUTUBE_SPAM_ZIP_PATH"
   ]
  },
  {
   "cell_type": "code",
   "execution_count": 14,
   "id": "fe0c8cb3",
   "metadata": {
    "ExecuteTime": {
     "end_time": "2021-11-04T08:19:56.045431Z",
     "start_time": "2021-11-04T08:19:56.036520Z"
    }
   },
   "outputs": [],
   "source": [
    "SPAM_CLASSIFIER_DIR = DATASET_DIR / \"spam-classifier\"\n",
    "SMS_SPAM_DIR = DATASET_DIR / \"sms-spam\"\n",
    "YOUTUBE_SPAM_DIR = DATASET_DIR / \"youtube-spam\"\n",
    "\n",
    "SMS_SPAM_DIR.mkdir(exist_ok=True, parents=True)\n",
    "YOUTUBE_SPAM_DIR.mkdir(exist_ok=True, parents=True)\n"
   ]
  },
  {
   "cell_type": "code",
   "execution_count": 16,
   "id": "1c99ac63",
   "metadata": {
    "ExecuteTime": {
     "end_time": "2021-11-04T08:21:26.070018Z",
     "start_time": "2021-11-04T08:21:25.796489Z"
    }
   },
   "outputs": [
    {
     "name": "stdout",
     "output_type": "stream",
     "text": [
      "Archive:  /Users/jerome/Downloads/jupyter_dir/Tutorial/AI_as_API/datasets/zips/sms_spam.zip\n",
      "warning [/Users/jerome/Downloads/jupyter_dir/Tutorial/AI_as_API/datasets/zips/sms_spam.zip]:  332 extra bytes at beginning or within zipfile\n",
      "  (attempting to process anyway)\n",
      "  inflating: /Users/jerome/Downloads/jupyter_dir/Tutorial/AI_as_API/datasets/sms-spam/SMSSpamCollection  \n",
      "  inflating: /Users/jerome/Downloads/jupyter_dir/Tutorial/AI_as_API/datasets/sms-spam/readme  \n",
      "Archive:  /Users/jerome/Downloads/jupyter_dir/Tutorial/AI_as_API/datasets/zips/youtube_spam.zip\n",
      "warning [/Users/jerome/Downloads/jupyter_dir/Tutorial/AI_as_API/datasets/zips/youtube_spam.zip]:  332 extra bytes at beginning or within zipfile\n",
      "  (attempting to process anyway)\n",
      "  inflating: /Users/jerome/Downloads/jupyter_dir/Tutorial/AI_as_API/datasets/youtube-spam/Youtube01-Psy.csv  \n",
      "   creating: /Users/jerome/Downloads/jupyter_dir/Tutorial/AI_as_API/datasets/youtube-spam/__MACOSX/\n",
      "  inflating: /Users/jerome/Downloads/jupyter_dir/Tutorial/AI_as_API/datasets/youtube-spam/__MACOSX/._Youtube01-Psy.csv  \n",
      "  inflating: /Users/jerome/Downloads/jupyter_dir/Tutorial/AI_as_API/datasets/youtube-spam/Youtube02-KatyPerry.csv  \n",
      "  inflating: /Users/jerome/Downloads/jupyter_dir/Tutorial/AI_as_API/datasets/youtube-spam/__MACOSX/._Youtube02-KatyPerry.csv  \n",
      "  inflating: /Users/jerome/Downloads/jupyter_dir/Tutorial/AI_as_API/datasets/youtube-spam/Youtube03-LMFAO.csv  \n",
      "  inflating: /Users/jerome/Downloads/jupyter_dir/Tutorial/AI_as_API/datasets/youtube-spam/__MACOSX/._Youtube03-LMFAO.csv  \n",
      "  inflating: /Users/jerome/Downloads/jupyter_dir/Tutorial/AI_as_API/datasets/youtube-spam/Youtube04-Eminem.csv  \n",
      "  inflating: /Users/jerome/Downloads/jupyter_dir/Tutorial/AI_as_API/datasets/youtube-spam/__MACOSX/._Youtube04-Eminem.csv  \n",
      "  inflating: /Users/jerome/Downloads/jupyter_dir/Tutorial/AI_as_API/datasets/youtube-spam/Youtube05-Shakira.csv  \n",
      "  inflating: /Users/jerome/Downloads/jupyter_dir/Tutorial/AI_as_API/datasets/youtube-spam/__MACOSX/._Youtube05-Shakira.csv  \n"
     ]
    }
   ],
   "source": [
    "!unzip -o $SMS_SPAM_ZIP_PATH -d $SMS_SPAM_DIR\n",
    "!unzip -o $YOUTUBE_SPAM_ZIP_PATH -d $YOUTUBE_SPAM_DIR"
   ]
  },
  {
   "cell_type": "code",
   "execution_count": 26,
   "id": "75135630",
   "metadata": {
    "ExecuteTime": {
     "end_time": "2021-11-04T09:54:24.240932Z",
     "start_time": "2021-11-04T09:53:51.836557Z"
    }
   },
   "outputs": [],
   "source": [
    "import pandas as pd"
   ]
  },
  {
   "cell_type": "code",
   "execution_count": 42,
   "id": "44a4695f",
   "metadata": {
    "ExecuteTime": {
     "end_time": "2021-11-04T10:11:48.596786Z",
     "start_time": "2021-11-04T10:11:48.562628Z"
    }
   },
   "outputs": [
    {
     "data": {
      "text/html": [
       "<div>\n",
       "<style scoped>\n",
       "    .dataframe tbody tr th:only-of-type {\n",
       "        vertical-align: middle;\n",
       "    }\n",
       "\n",
       "    .dataframe tbody tr th {\n",
       "        vertical-align: top;\n",
       "    }\n",
       "\n",
       "    .dataframe thead th {\n",
       "        text-align: right;\n",
       "    }\n",
       "</style>\n",
       "<table border=\"1\" class=\"dataframe\">\n",
       "  <thead>\n",
       "    <tr style=\"text-align: right;\">\n",
       "      <th></th>\n",
       "      <th>label</th>\n",
       "      <th>text</th>\n",
       "      <th>source</th>\n",
       "    </tr>\n",
       "  </thead>\n",
       "  <tbody>\n",
       "    <tr>\n",
       "      <th>0</th>\n",
       "      <td>ham</td>\n",
       "      <td>Go until jurong point, crazy.. Available only ...</td>\n",
       "      <td>SMSSpamCollection</td>\n",
       "    </tr>\n",
       "    <tr>\n",
       "      <th>1</th>\n",
       "      <td>ham</td>\n",
       "      <td>Ok lar... Joking wif u oni...</td>\n",
       "      <td>SMSSpamCollection</td>\n",
       "    </tr>\n",
       "    <tr>\n",
       "      <th>2</th>\n",
       "      <td>spam</td>\n",
       "      <td>Free entry in 2 a wkly comp to win FA Cup fina...</td>\n",
       "      <td>SMSSpamCollection</td>\n",
       "    </tr>\n",
       "    <tr>\n",
       "      <th>3</th>\n",
       "      <td>ham</td>\n",
       "      <td>U dun say so early hor... U c already then say...</td>\n",
       "      <td>SMSSpamCollection</td>\n",
       "    </tr>\n",
       "    <tr>\n",
       "      <th>4</th>\n",
       "      <td>ham</td>\n",
       "      <td>Nah I don't think he goes to usf, he lives aro...</td>\n",
       "      <td>SMSSpamCollection</td>\n",
       "    </tr>\n",
       "  </tbody>\n",
       "</table>\n",
       "</div>"
      ],
      "text/plain": [
       "  label                                               text             source\n",
       "0   ham  Go until jurong point, crazy.. Available only ...  SMSSpamCollection\n",
       "1   ham                      Ok lar... Joking wif u oni...  SMSSpamCollection\n",
       "2  spam  Free entry in 2 a wkly comp to win FA Cup fina...  SMSSpamCollection\n",
       "3   ham  U dun say so early hor... U c already then say...  SMSSpamCollection\n",
       "4   ham  Nah I don't think he goes to usf, he lives aro...  SMSSpamCollection"
      ]
     },
     "execution_count": 42,
     "metadata": {},
     "output_type": "execute_result"
    }
   ],
   "source": [
    "SMS_SPAM_DATA_PATH=SMS_SPAM_DIR/'SMSSpamCollection'\n",
    "# SMS_SPAM_DATA_PATH.read_text()\n",
    "# for path in SMS_SPAM_DIR.glob('*'):\n",
    "#     print(path)\n",
    "#     try:\n",
    "#         print(path.read_text())\n",
    "#     except:\n",
    "#         pass\n",
    "sms_df=pd.read_csv(SMS_SPAM_DATA_PATH, sep='\\t', header=None, names=['label', 'text'])\n",
    "sms_df['source']=SMS_SPAM_DATA_PATH.name\n",
    "sms_df.head()"
   ]
  },
  {
   "cell_type": "code",
   "execution_count": 43,
   "id": "05a5d77d",
   "metadata": {
    "ExecuteTime": {
     "end_time": "2021-11-04T10:12:09.507394Z",
     "start_time": "2021-11-04T10:12:09.446180Z"
    }
   },
   "outputs": [
    {
     "name": "stdout",
     "output_type": "stream",
     "text": [
      "/Users/jerome/Downloads/jupyter_dir/Tutorial/AI_as_API/datasets/youtube-spam/Youtube03-LMFAO.csv\n",
      "==============================\n",
      "/Users/jerome/Downloads/jupyter_dir/Tutorial/AI_as_API/datasets/youtube-spam/Youtube04-Eminem.csv\n",
      "==============================\n",
      "/Users/jerome/Downloads/jupyter_dir/Tutorial/AI_as_API/datasets/youtube-spam/Youtube05-Shakira.csv\n",
      "==============================\n",
      "/Users/jerome/Downloads/jupyter_dir/Tutorial/AI_as_API/datasets/youtube-spam/Youtube02-KatyPerry.csv\n",
      "==============================\n",
      "/Users/jerome/Downloads/jupyter_dir/Tutorial/AI_as_API/datasets/youtube-spam/Youtube01-Psy.csv\n",
      "==============================\n"
     ]
    },
    {
     "data": {
      "text/html": [
       "<div>\n",
       "<style scoped>\n",
       "    .dataframe tbody tr th:only-of-type {\n",
       "        vertical-align: middle;\n",
       "    }\n",
       "\n",
       "    .dataframe tbody tr th {\n",
       "        vertical-align: top;\n",
       "    }\n",
       "\n",
       "    .dataframe thead th {\n",
       "        text-align: right;\n",
       "    }\n",
       "</style>\n",
       "<table border=\"1\" class=\"dataframe\">\n",
       "  <thead>\n",
       "    <tr style=\"text-align: right;\">\n",
       "      <th></th>\n",
       "      <th>label</th>\n",
       "      <th>text</th>\n",
       "      <th>source</th>\n",
       "    </tr>\n",
       "  </thead>\n",
       "  <tbody>\n",
       "    <tr>\n",
       "      <th>0</th>\n",
       "      <td>ham</td>\n",
       "      <td>&lt;a href=\"http://www.youtube.com/watch?v=KQ6zr6...</td>\n",
       "      <td>Youtube03-LMFAO.csv</td>\n",
       "    </tr>\n",
       "    <tr>\n",
       "      <th>1</th>\n",
       "      <td>ham</td>\n",
       "      <td>wierd but funny﻿</td>\n",
       "      <td>Youtube03-LMFAO.csv</td>\n",
       "    </tr>\n",
       "    <tr>\n",
       "      <th>2</th>\n",
       "      <td>spam</td>\n",
       "      <td>Hey guys, I&amp;#39;m a human.&lt;br /&gt;&lt;br /&gt;&lt;br /&gt;Bu...</td>\n",
       "      <td>Youtube03-LMFAO.csv</td>\n",
       "    </tr>\n",
       "    <tr>\n",
       "      <th>3</th>\n",
       "      <td>ham</td>\n",
       "      <td>Party Rock....lol...who wants to shuffle!!!﻿</td>\n",
       "      <td>Youtube03-LMFAO.csv</td>\n",
       "    </tr>\n",
       "    <tr>\n",
       "      <th>4</th>\n",
       "      <td>ham</td>\n",
       "      <td>Party rock﻿</td>\n",
       "      <td>Youtube03-LMFAO.csv</td>\n",
       "    </tr>\n",
       "  </tbody>\n",
       "</table>\n",
       "</div>"
      ],
      "text/plain": [
       "  label                                               text  \\\n",
       "0   ham  <a href=\"http://www.youtube.com/watch?v=KQ6zr6...   \n",
       "1   ham                                   wierd but funny﻿   \n",
       "2  spam  Hey guys, I&#39;m a human.<br /><br /><br />Bu...   \n",
       "3   ham       Party Rock....lol...who wants to shuffle!!!﻿   \n",
       "4   ham                                        Party rock﻿   \n",
       "\n",
       "                source  \n",
       "0  Youtube03-LMFAO.csv  \n",
       "1  Youtube03-LMFAO.csv  \n",
       "2  Youtube03-LMFAO.csv  \n",
       "3  Youtube03-LMFAO.csv  \n",
       "4  Youtube03-LMFAO.csv  "
      ]
     },
     "execution_count": 43,
     "metadata": {},
     "output_type": "execute_result"
    }
   ],
   "source": [
    "yt_dfs=[]\n",
    "for path in YOUTUBE_SPAM_DIR.glob('*csv'):\n",
    "    print(path)\n",
    "    try:\n",
    "        df=pd.read_csv(path)\n",
    "        df.rename(columns={'CLASS': 'raw_label', 'CONTENT':'text'}, inplace=True)\n",
    "        df['label']=df['raw_label'].apply(lambda x: 'spam' if str(x)=='1' else 'ham')\n",
    "        df['source']=path.name\n",
    "        yt_dfs.append(df[['label', 'text', 'source']])\n",
    "#         print(yt_df.head())\n",
    "    except:\n",
    "        pass\n",
    "    print('='*30)\n",
    "yt_df=pd.concat(yt_dfs)\n",
    "yt_df.head()"
   ]
  },
  {
   "cell_type": "code",
   "execution_count": 44,
   "id": "ed8a0f92",
   "metadata": {
    "ExecuteTime": {
     "end_time": "2021-11-04T10:12:12.009503Z",
     "start_time": "2021-11-04T10:12:11.992581Z"
    }
   },
   "outputs": [
    {
     "data": {
      "text/html": [
       "<div>\n",
       "<style scoped>\n",
       "    .dataframe tbody tr th:only-of-type {\n",
       "        vertical-align: middle;\n",
       "    }\n",
       "\n",
       "    .dataframe tbody tr th {\n",
       "        vertical-align: top;\n",
       "    }\n",
       "\n",
       "    .dataframe thead th {\n",
       "        text-align: right;\n",
       "    }\n",
       "</style>\n",
       "<table border=\"1\" class=\"dataframe\">\n",
       "  <thead>\n",
       "    <tr style=\"text-align: right;\">\n",
       "      <th></th>\n",
       "      <th>label</th>\n",
       "      <th>text</th>\n",
       "      <th>source</th>\n",
       "    </tr>\n",
       "  </thead>\n",
       "  <tbody>\n",
       "    <tr>\n",
       "      <th>0</th>\n",
       "      <td>ham</td>\n",
       "      <td>Go until jurong point, crazy.. Available only ...</td>\n",
       "      <td>SMSSpamCollection</td>\n",
       "    </tr>\n",
       "    <tr>\n",
       "      <th>1</th>\n",
       "      <td>ham</td>\n",
       "      <td>Ok lar... Joking wif u oni...</td>\n",
       "      <td>SMSSpamCollection</td>\n",
       "    </tr>\n",
       "    <tr>\n",
       "      <th>2</th>\n",
       "      <td>spam</td>\n",
       "      <td>Free entry in 2 a wkly comp to win FA Cup fina...</td>\n",
       "      <td>SMSSpamCollection</td>\n",
       "    </tr>\n",
       "    <tr>\n",
       "      <th>3</th>\n",
       "      <td>ham</td>\n",
       "      <td>U dun say so early hor... U c already then say...</td>\n",
       "      <td>SMSSpamCollection</td>\n",
       "    </tr>\n",
       "    <tr>\n",
       "      <th>4</th>\n",
       "      <td>ham</td>\n",
       "      <td>Nah I don't think he goes to usf, he lives aro...</td>\n",
       "      <td>SMSSpamCollection</td>\n",
       "    </tr>\n",
       "  </tbody>\n",
       "</table>\n",
       "</div>"
      ],
      "text/plain": [
       "  label                                               text             source\n",
       "0   ham  Go until jurong point, crazy.. Available only ...  SMSSpamCollection\n",
       "1   ham                      Ok lar... Joking wif u oni...  SMSSpamCollection\n",
       "2  spam  Free entry in 2 a wkly comp to win FA Cup fina...  SMSSpamCollection\n",
       "3   ham  U dun say so early hor... U c already then say...  SMSSpamCollection\n",
       "4   ham  Nah I don't think he goes to usf, he lives aro...  SMSSpamCollection"
      ]
     },
     "execution_count": 44,
     "metadata": {},
     "output_type": "execute_result"
    }
   ],
   "source": [
    "df=pd.concat([sms_df, yt_df])\n",
    "df.head()"
   ]
  },
  {
   "cell_type": "code",
   "execution_count": 47,
   "id": "46e1568b",
   "metadata": {
    "ExecuteTime": {
     "end_time": "2021-11-04T10:20:56.797102Z",
     "start_time": "2021-11-04T10:20:56.752703Z"
    }
   },
   "outputs": [],
   "source": [
    "df.to_csv(SPAM_DATASET_PATH, index=None)"
   ]
  },
  {
   "cell_type": "code",
   "execution_count": null,
   "id": "5d79553d",
   "metadata": {},
   "outputs": [],
   "source": []
  }
 ],
 "metadata": {
  "kernelspec": {
   "display_name": "Python 3 (ipykernel)",
   "language": "python",
   "name": "python3"
  },
  "language_info": {
   "codemirror_mode": {
    "name": "ipython",
    "version": 3
   },
   "file_extension": ".py",
   "mimetype": "text/x-python",
   "name": "python",
   "nbconvert_exporter": "python",
   "pygments_lexer": "ipython3",
   "version": "3.7.3"
  }
 },
 "nbformat": 4,
 "nbformat_minor": 5
}
